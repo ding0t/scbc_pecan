{
 "cells": [
  {
   "cell_type": "code",
   "execution_count": 9,
   "metadata": {},
   "outputs": [
    {
     "name": "stdout",
     "output_type": "stream",
     "text": [
      "dBGvA6NXn089FuLO5W3nY7KNQVLlNf1w+kb/+WC8oEBnVpx4NQkjY6JAuBi2pmF655If+ms56u1hiPVBs3cjxKh9aRACR12uUh9NtGdDCdXA6mqmJAlZpQV/Z2YDQetN\n"
     ]
    }
   ],
   "source": [
    "import base64\n",
    "\n",
    "sesh = \"ZEJHdkE2TlhuMDg5RnVMTzVXM25ZN0tOUVZMbE5mMXcra2IvK1dDOG9FQm5WcHg0TlFralk2SkF1QmkycG1GNjU1SWYrbXM1NnUxaGlQVkJzM2NqeEtoOWFSQUNSMTJ1VWg5TnRHZERDZFhBNm1xbUpBbFpwUVYvWjJZRFFldE4=\"\n",
    "\n",
    "raw = base64.b64decode(sesh)\n",
    "len(raw)\n",
    "print(raw.decode(\"utf-8\"))"
   ]
  }
 ],
 "metadata": {
  "kernelspec": {
   "display_name": ".venv",
   "language": "python",
   "name": "python3"
  },
  "language_info": {
   "codemirror_mode": {
    "name": "ipython",
    "version": 3
   },
   "file_extension": ".py",
   "mimetype": "text/x-python",
   "name": "python",
   "nbconvert_exporter": "python",
   "pygments_lexer": "ipython3",
   "version": "3.12.3"
  }
 },
 "nbformat": 4,
 "nbformat_minor": 2
}
